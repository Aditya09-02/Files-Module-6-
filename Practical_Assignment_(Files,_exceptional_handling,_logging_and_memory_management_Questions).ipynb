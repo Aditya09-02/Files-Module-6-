{
  "nbformat": 4,
  "nbformat_minor": 0,
  "metadata": {
    "colab": {
      "provenance": []
    },
    "kernelspec": {
      "name": "python3",
      "display_name": "Python 3"
    },
    "language_info": {
      "name": "python"
    }
  },
  "cells": [
    {
      "cell_type": "markdown",
      "source": [
        "Q1. How can you open a file for writing in Python and write a string to it ?"
      ],
      "metadata": {
        "id": "VdRHkks3Ydp2"
      }
    },
    {
      "cell_type": "code",
      "source": [
        "# Open the file in write mode ('w')\n",
        "with open('example.txt', 'w') as file:\n",
        "    # Write a string to the file\n",
        "    file.write(\"Hello, this is a string written to the file.\")\n",
        "\n",
        "# Now, let's read the file content to display the output\n",
        "with open('example.txt', 'r') as file:\n",
        "    content = file.read()\n",
        "\n",
        "# Print the content of the file\n",
        "print(\"Content of the file:\", content)"
      ],
      "metadata": {
        "colab": {
          "base_uri": "https://localhost:8080/"
        },
        "id": "zILWLuPiagYM",
        "outputId": "75a9305e-e0fb-4e74-820e-2a6da320e506"
      },
      "execution_count": null,
      "outputs": [
        {
          "output_type": "stream",
          "name": "stdout",
          "text": [
            "Content of the file: Hello, this is a string written to the file.\n"
          ]
        }
      ]
    },
    {
      "cell_type": "markdown",
      "source": [
        "Q2.  Write a Python program to read the contents of a file and print each line ?"
      ],
      "metadata": {
        "id": "ncES8X94ajk8"
      }
    },
    {
      "cell_type": "code",
      "source": [
        "#Ans.\n",
        "\n",
        "# Open the file in read mode ('r')\n",
        "with open('example.txt', 'r') as file:\n",
        "    # Read the file line by line\n",
        "    for line in file:\n",
        "        # Print each line\n",
        "        print(line, end='') # end='' prevents extra newline\n"
      ],
      "metadata": {
        "colab": {
          "base_uri": "https://localhost:8080/"
        },
        "id": "Ormd23VPanSc",
        "outputId": "57e48d35-2eb3-41d0-ef40-67fc42f6ccec"
      },
      "execution_count": null,
      "outputs": [
        {
          "output_type": "stream",
          "name": "stdout",
          "text": [
            "Hello, this is a string written to the file."
          ]
        }
      ]
    },
    {
      "cell_type": "markdown",
      "source": [
        "Q3. How would you handle a case where the file doesn't exist while trying to open it for reading ?"
      ],
      "metadata": {
        "id": "JvpuuD0_aqbl"
      }
    },
    {
      "cell_type": "code",
      "source": [
        "#Ans.\n",
        "\n",
        "try:\n",
        "    with open('non_existent_file.txt', 'r') as file:\n",
        "        for line in file:\n",
        "            print(line, end='')\n",
        "except FileNotFoundError:\n",
        "    print(\"Error: The file 'non_existent_file.txt' was not found.\")\n"
      ],
      "metadata": {
        "colab": {
          "base_uri": "https://localhost:8080/"
        },
        "id": "Ec5_xZawatm9",
        "outputId": "af94b1ff-397a-4876-bb59-c59d5260912f"
      },
      "execution_count": null,
      "outputs": [
        {
          "output_type": "stream",
          "name": "stdout",
          "text": [
            "Error: The file 'non_existent_file.txt' was not found.\n"
          ]
        }
      ]
    },
    {
      "cell_type": "markdown",
      "source": [
        "Q4.  Write a Python script that reads from one file and writes its content to another file ?"
      ],
      "metadata": {
        "id": "WghZhqQQa1H8"
      }
    },
    {
      "cell_type": "code",
      "source": [
        "#Ans.\n",
        "\n",
        "# Open the source file for reading\n",
        "try:\n",
        "    with open('source_file.txt', 'r') as source_file:\n",
        "        # Open the destination file for writing\n",
        "        with open('destination_file.txt', 'w') as destination_file:\n",
        "            # Read the content of the source file\n",
        "            content = source_file.read()\n",
        "\n",
        "            # Write the content to the destination file\n",
        "            destination_file.write(content)\n",
        "except FileNotFoundError:\n",
        "    print(\"Error: The source file 'source_file.txt' was not found.\")\n"
      ],
      "metadata": {
        "colab": {
          "base_uri": "https://localhost:8080/"
        },
        "id": "zNsedVYRa4Ys",
        "outputId": "6c163f71-c7f0-4b45-d066-8d560310cd10"
      },
      "execution_count": null,
      "outputs": [
        {
          "output_type": "stream",
          "name": "stdout",
          "text": [
            "Error: The source file 'source_file.txt' was not found.\n"
          ]
        }
      ]
    },
    {
      "cell_type": "markdown",
      "source": [
        "Q5.  How would you catch and handle division by zero error in Python ?"
      ],
      "metadata": {
        "id": "qdLCHnwga9w7"
      }
    },
    {
      "cell_type": "code",
      "source": [
        "#Ans.\n",
        "\n",
        "#Ans.\n",
        "try:\n",
        "    result = 10 / 0  # This will cause a ZeroDivisionError\n",
        "except ZeroDivisionError:\n",
        "    print(\"Error: Division by zero occurred.\")\n"
      ],
      "metadata": {
        "colab": {
          "base_uri": "https://localhost:8080/"
        },
        "id": "tljbLvidbA2E",
        "outputId": "597101ba-4496-43b3-ce10-6319dfd8d367"
      },
      "execution_count": null,
      "outputs": [
        {
          "output_type": "stream",
          "name": "stdout",
          "text": [
            "Error: Division by zero occurred.\n"
          ]
        }
      ]
    },
    {
      "cell_type": "markdown",
      "source": [
        "Q6.  Write a Python program that logs an error message to a log file when a division by zero exception occurs ?"
      ],
      "metadata": {
        "id": "tP5L8OVpbFK7"
      }
    },
    {
      "cell_type": "code",
      "source": [
        "#Ans.\n",
        "\n",
        "import logging\n",
        "\n",
        "def division_with_logging():\n",
        "    try:\n",
        "        result = 10 / 0\n",
        "    except ZeroDivisionError:\n",
        "        # Configure logging\n",
        "        logging.basicConfig(filename='error_log.txt', level=logging.ERROR,\n",
        "                            format='%(asctime)s - %(levelname)s - %(message)s')\n",
        "\n",
        "        # Log the error\n",
        "        logging.error(\"Division by zero occurred.\")\n",
        "\n",
        "division_with_logging()\n"
      ],
      "metadata": {
        "colab": {
          "base_uri": "https://localhost:8080/"
        },
        "id": "91RtzcB8bJ-i",
        "outputId": "938150d9-b436-4d9b-da02-9a853afdf38e"
      },
      "execution_count": null,
      "outputs": [
        {
          "output_type": "stream",
          "name": "stderr",
          "text": [
            "ERROR:root:Division by zero occurred.\n"
          ]
        }
      ]
    },
    {
      "cell_type": "markdown",
      "source": [
        "Q7. How do you log information at different levels (INFO, ERROR, WARNING) in Python using the logging module ?"
      ],
      "metadata": {
        "id": "lURB9FaQceAq"
      }
    },
    {
      "cell_type": "code",
      "source": [
        "#Ans.\n",
        "\n",
        "import logging\n",
        "\n",
        "def log_different_levels():\n",
        "    # Configure logging (you can customize filename, level, and format)\n",
        "    logging.basicConfig(filename='app.log', level=logging.INFO,\n",
        "                        format='%(asctime)s - %(levelname)s - %(message)s')\n",
        "\n",
        "    # Log messages at different levels\n",
        "    logging.info(\"This is an informational message.\")\n",
        "    logging.warning(\"This is a warning message.\")\n",
        "    logging.error(\"This is an error message.\")\n",
        "    logging.critical(\"This is a critical message.\")  # Critical is more severe than error\n",
        "\n",
        "log_different_levels()\n"
      ],
      "metadata": {
        "colab": {
          "base_uri": "https://localhost:8080/"
        },
        "id": "SPLNkrzKchH6",
        "outputId": "789c8a17-9566-4a3f-972c-889f72241e6b"
      },
      "execution_count": null,
      "outputs": [
        {
          "output_type": "stream",
          "name": "stderr",
          "text": [
            "WARNING:root:This is a warning message.\n",
            "ERROR:root:This is an error message.\n",
            "CRITICAL:root:This is a critical message.\n"
          ]
        }
      ]
    },
    {
      "cell_type": "markdown",
      "source": [
        "Q8. Write a program to handle a file opening error using exception handling ?"
      ],
      "metadata": {
        "id": "Ss-2DTg2coR6"
      }
    },
    {
      "cell_type": "code",
      "source": [
        "#Ans.\n",
        "\n",
        "def handle_file_opening_error(filename):\n",
        "    try:\n",
        "        with open(filename, 'r') as file:\n",
        "            # Process the file here\n",
        "            contents = file.read()\n",
        "            print(contents)\n",
        "    except FileNotFoundError:\n",
        "        print(f\"Error: File '{filename}' not found.\")\n",
        "    except Exception as e:  # Handle other potential errors\n",
        "        print(f\"An unexpected error occurred: {e}\")\n",
        "\n",
        "# Example usage\n",
        "handle_file_opening_error(\"my_file.txt\")  # Replace with your file name\n"
      ],
      "metadata": {
        "colab": {
          "base_uri": "https://localhost:8080/"
        },
        "id": "t8w8DSRacsmb",
        "outputId": "37bffa06-f1d2-4cca-8990-f9f7152bd777"
      },
      "execution_count": null,
      "outputs": [
        {
          "output_type": "stream",
          "name": "stdout",
          "text": [
            "# Q1. What is the difference between interpreted and compiled languages ?\n"
          ]
        }
      ]
    },
    {
      "cell_type": "markdown",
      "source": [
        "Q9.  How can you read a file line by line and store its content in a list in Python ?"
      ],
      "metadata": {
        "id": "hOTS-stMc3l5"
      }
    },
    {
      "cell_type": "code",
      "source": [
        "#Ans.\n",
        "\n",
        "# Open the file in read mode ('r')\n",
        "with open('example.txt', 'r') as file:\n",
        "    # Read the file line by line and store in a list\n",
        "    lines = file.readlines()\n",
        "\n",
        "# Now, 'lines' contains each line of the file as an element in a list\n",
        "print(lines)"
      ],
      "metadata": {
        "colab": {
          "base_uri": "https://localhost:8080/"
        },
        "id": "fbmqexajdHn0",
        "outputId": "24135f9e-0a1e-43fd-f597-7b9056161d4b"
      },
      "execution_count": null,
      "outputs": [
        {
          "output_type": "stream",
          "name": "stdout",
          "text": [
            "['Hello, this is a string written to the file.\\n', 'This is a new line added to the file.']\n"
          ]
        }
      ]
    },
    {
      "cell_type": "markdown",
      "source": [
        "Q10.   How can you append data to an existing file in Python ?"
      ],
      "metadata": {
        "id": "xIpmDHMcdKDS"
      }
    },
    {
      "cell_type": "code",
      "source": [
        "#Ans.\n",
        "# Open the file in append mode ('a')\n",
        "with open('example.txt', 'a') as file:\n",
        "    # Append data to the file\n",
        "    file.write(\"\\nThis is a new line added to the file.\")\n",
        "\n",
        "# Now, let's read the file content to display the updated output\n",
        "with open('example.txt', 'r') as file:\n",
        "    content = file.read()\n",
        "\n",
        "# Print the content of the file after appending\n",
        "print(\"Content of the file after appending:\", content)\n"
      ],
      "metadata": {
        "colab": {
          "base_uri": "https://localhost:8080/"
        },
        "id": "u_YjDzJgdTvK",
        "outputId": "7fccf38d-dc7e-42b8-edfc-ab927427ddc6"
      },
      "execution_count": null,
      "outputs": [
        {
          "output_type": "stream",
          "name": "stdout",
          "text": [
            "Content of the file after appending: Hello, this is a string written to the file.\n",
            "This is a new line added to the file.\n",
            "This is a new line added to the file.\n",
            "This is a new line added to the file.\n"
          ]
        }
      ]
    },
    {
      "cell_type": "markdown",
      "source": [
        "Q11. Write a Python program that uses a try-except block to handle an error when attempting to access a dictionary key that doesn't exist ?"
      ],
      "metadata": {
        "id": "63DsTmOTdhvA"
      }
    },
    {
      "cell_type": "code",
      "source": [
        "#Ans.\n",
        "\n",
        "def access_dictionary_key(my_dict, key):\n",
        "    try:\n",
        "        value = my_dict[key]\n",
        "        print(f\"The value for key '{key}' is: {value}\")\n",
        "    except KeyError:\n",
        "        print(f\"Error: Key '{key}' not found in the dictionary.\")\n",
        "\n",
        "# Example usage\n",
        "my_dictionary = {\"a\": 1, \"b\": 2, \"c\": 3}\n",
        "access_dictionary_key(my_dictionary, \"b\")  # Key exists\n",
        "access_dictionary_key(my_dictionary, \"d\")  # Key does not exist\n"
      ],
      "metadata": {
        "colab": {
          "base_uri": "https://localhost:8080/"
        },
        "id": "uJ349ulzdlhC",
        "outputId": "08edb6e8-9db4-4e84-da7c-fb21b0927986"
      },
      "execution_count": null,
      "outputs": [
        {
          "output_type": "stream",
          "name": "stdout",
          "text": [
            "The value for key 'b' is: 2\n",
            "Error: Key 'd' not found in the dictionary.\n"
          ]
        }
      ]
    },
    {
      "cell_type": "markdown",
      "source": [
        "Q12.  Write a program that demonstrates using multiple except blocks to handle different types of exceptions ?"
      ],
      "metadata": {
        "id": "mdgK1SPKeVDZ"
      }
    },
    {
      "cell_type": "code",
      "source": [
        "#Ans.\n",
        "\n",
        "try:\n",
        "    # Prompt user for a number and attempt to perform division\n",
        "    num1 = int(input(\"Enter the first number: \"))\n",
        "    num2 = int(input(\"Enter the second number: \"))\n",
        "\n",
        "    # Division operation\n",
        "    result = num1 / num2\n",
        "    print(f\"The result of {num1} divided by {num2} is: {result}\")\n",
        "\n",
        "except ValueError:\n",
        "    # Handle invalid input (non-integer input)\n",
        "    print(\"Error: Please enter valid integers.\")\n",
        "\n",
        "except ZeroDivisionError:\n",
        "    # Handle division by zero error\n",
        "    print(\"Error: You cannot divide by zero.\")\n",
        "\n",
        "except Exception as e:\n",
        "    # Handle any other unforeseen errors\n",
        "    print(f\"An unexpected error occurred: {e}\")"
      ],
      "metadata": {
        "colab": {
          "base_uri": "https://localhost:8080/"
        },
        "id": "IGb0gnpVeYih",
        "outputId": "c06ed5f8-42fd-4cc2-e07b-7229248f9813"
      },
      "execution_count": null,
      "outputs": [
        {
          "output_type": "stream",
          "name": "stdout",
          "text": [
            "Enter the first number: 10\n",
            "Enter the second number: 2\n",
            "The result of 10 divided by 2 is: 5.0\n"
          ]
        }
      ]
    },
    {
      "cell_type": "markdown",
      "source": [
        "Q13.  How would you check if a file exists before attempting to read it in Python ?"
      ],
      "metadata": {
        "id": "eMzD_gwdexJh"
      }
    },
    {
      "cell_type": "code",
      "source": [
        "#Ans.\n",
        "\n",
        "import os\n",
        "\n",
        "# Check if the file exists\n",
        "file_path = 'example.txt'\n",
        "\n",
        "if os.path.exists(file_path):\n",
        "    with open(file_path, 'r') as file:\n",
        "        content = file.read()\n",
        "    print(\"File content:\")\n",
        "    print(content)\n",
        "else:\n",
        "    print(f\"The file '{file_path}' does not exist.\")"
      ],
      "metadata": {
        "colab": {
          "base_uri": "https://localhost:8080/"
        },
        "id": "Mp8cQyUve0lA",
        "outputId": "3b4871ca-4b06-4ff1-89f3-51bdadc7121f"
      },
      "execution_count": null,
      "outputs": [
        {
          "output_type": "stream",
          "name": "stdout",
          "text": [
            "File content:\n",
            "Hello, this is a string written to the file.\n",
            "This is a new line added to the file.\n",
            "This is a new line added to the file.\n",
            "This is a new line added to the file.\n"
          ]
        }
      ]
    },
    {
      "cell_type": "markdown",
      "source": [
        "Q14. Write a program that uses the logging module to log both informational and error messages ?"
      ],
      "metadata": {
        "id": "Hx60oBtde63a"
      }
    },
    {
      "cell_type": "code",
      "source": [
        "#Ans.\n",
        "\n",
        "import logging\n",
        "\n",
        "def log_messages():\n",
        "    # Configure logging\n",
        "    logging.basicConfig(filename='my_app.log', level=logging.INFO,\n",
        "                        format='%(asctime)s - %(levelname)s - %(message)s')\n",
        "\n",
        "    # Log an informational message\n",
        "    logging.info(\"Starting the application...\")\n",
        "\n",
        "    try:\n",
        "        # Code that might raise an error\n",
        "        result = 10 / 0\n",
        "    except ZeroDivisionError:\n",
        "        # Log the error\n",
        "        logging.error(\"An error occurred: Division by zero\")\n",
        "\n",
        "    # Log another informational message\n",
        "    logging.info(\"Application finished.\")\n",
        "\n",
        "log_messages()\n"
      ],
      "metadata": {
        "colab": {
          "base_uri": "https://localhost:8080/"
        },
        "id": "KrYT3OAmfMdA",
        "outputId": "98cfb286-312e-497b-81ff-935bc4372517"
      },
      "execution_count": null,
      "outputs": [
        {
          "output_type": "stream",
          "name": "stderr",
          "text": [
            "ERROR:root:An error occurred: Division by zero\n"
          ]
        }
      ]
    },
    {
      "cell_type": "markdown",
      "source": [
        "Q15.  Write a Python program that prints the content of a file and handles the case when the file is empty ?"
      ],
      "metadata": {
        "id": "Th-5t9n_fR04"
      }
    },
    {
      "cell_type": "code",
      "source": [
        "#Ans.\n",
        "\n",
        "# Define the file path\n",
        "file_path = 'example.txt'\n",
        "\n",
        "try:\n",
        "    # Open the file in read mode ('r')\n",
        "    with open(file_path, 'r') as file:\n",
        "        content = file.read()\n",
        "\n",
        "        # Check if the file is empty\n",
        "        if not content:\n",
        "            print(f\"The file '{file_path}' is empty.\")\n",
        "        else:\n",
        "            print(\"File content:\")\n",
        "            print(content)\n",
        "except FileNotFoundError:\n",
        "    # Handle case when the file does not exist\n",
        "    print(f\"The file '{file_path}' does not exist.\")"
      ],
      "metadata": {
        "colab": {
          "base_uri": "https://localhost:8080/"
        },
        "id": "3fRNUvgcfaww",
        "outputId": "3d155f0a-12ef-4e4d-ecb3-03aa81c337ad"
      },
      "execution_count": null,
      "outputs": [
        {
          "output_type": "stream",
          "name": "stdout",
          "text": [
            "File content:\n",
            "Hello, this is a string written to the file.\n",
            "This is a new line added to the file.\n",
            "This is a new line added to the file.\n",
            "This is a new line added to the file.\n"
          ]
        }
      ]
    },
    {
      "cell_type": "markdown",
      "source": [
        "Q16. Demonstrate how to use memory profiling to check the memory usage of a small program ?"
      ],
      "metadata": {
        "id": "7R6MscBofdvg"
      }
    },
    {
      "cell_type": "code",
      "source": [
        "#Ans.\n",
        "\n",
        "!pip install memory_profiler\n",
        "\n",
        "%load_ext memory_profiler\n",
        "\n",
        "# Example function to profile (replace with your actual code)\n",
        "def my_function():\n",
        "    a = [1] * (10 ** 6)  # Create a large list\n",
        "    b = a * 2  # Duplicate list\n",
        "\n",
        "%memit my_function()\n"
      ],
      "metadata": {
        "colab": {
          "base_uri": "https://localhost:8080/"
        },
        "id": "YIDvxdCxfhWo",
        "outputId": "31c6b7e9-6972-4876-a1d6-20431372995a"
      },
      "execution_count": null,
      "outputs": [
        {
          "output_type": "stream",
          "name": "stdout",
          "text": [
            "Collecting memory_profiler\n",
            "  Downloading memory_profiler-0.61.0-py3-none-any.whl.metadata (20 kB)\n",
            "Requirement already satisfied: psutil in /usr/local/lib/python3.11/dist-packages (from memory_profiler) (5.9.5)\n",
            "Downloading memory_profiler-0.61.0-py3-none-any.whl (31 kB)\n",
            "Installing collected packages: memory_profiler\n",
            "Successfully installed memory_profiler-0.61.0\n",
            "peak memory: 109.48 MiB, increment: 0.59 MiB\n"
          ]
        }
      ]
    },
    {
      "cell_type": "markdown",
      "source": [
        "Q17. Write a Python program to create and write a list of numbers to a file, one number per line ?"
      ],
      "metadata": {
        "id": "HgU2exJBfnv5"
      }
    },
    {
      "cell_type": "code",
      "source": [
        "#Ans.\n",
        "\n",
        "def write_numbers_to_file(numbers, filename):\n",
        "    try:\n",
        "        with open(filename, 'w') as file:\n",
        "            for number in numbers:\n",
        "                file.write(str(number) + '\\n')\n",
        "        print(f\"Numbers successfully written to '{filename}'\")\n",
        "    except Exception as e:\n",
        "        print(f\"An error occurred: {e}\")\n",
        "\n",
        "# Example usage\n",
        "numbers = [10, 20, 30, 40, 50]\n",
        "filename = \"numbers.txt\"\n",
        "write_numbers_to_file(numbers, filename)\n"
      ],
      "metadata": {
        "colab": {
          "base_uri": "https://localhost:8080/"
        },
        "id": "RAOWuSmUfrLW",
        "outputId": "f4145f2b-ccca-4431-ec4d-590ae08bdf9b"
      },
      "execution_count": null,
      "outputs": [
        {
          "output_type": "stream",
          "name": "stdout",
          "text": [
            "Numbers successfully written to 'numbers.txt'\n"
          ]
        }
      ]
    },
    {
      "cell_type": "markdown",
      "source": [
        "Q18.  How would you implement a basic logging setup that logs to a file with rotation after 1MB ?"
      ],
      "metadata": {
        "id": "3SFKcH1hfxIR"
      }
    },
    {
      "cell_type": "code",
      "source": [
        "#Ans.\n",
        "\n",
        "import logging\n",
        "from logging.handlers import RotatingFileHandler\n",
        "\n",
        "# Set up logging configuration\n",
        "log_file = 'app.log'\n",
        "\n",
        "# Create a rotating file handler that will create a new log file after 1MB\n",
        "handler = RotatingFileHandler(log_file, maxBytes=1_000_000, backupCount=3)\n",
        "\n",
        "# Set the log format\n",
        "formatter = logging.Formatter('%(asctime)s - %(levelname)s - %(message)s')\n",
        "handler.setFormatter(formatter)\n",
        "\n",
        "# Set up the logger\n",
        "logger = logging.getLogger()\n",
        "logger.setLevel(logging.DEBUG)  # Set the logging level to DEBUG\n",
        "logger.addHandler(handler)\n",
        "\n",
        "# Test logging messages\n",
        "def test_logging():\n",
        "    logger.debug(\"This is a debug message\")\n",
        "    logger.info(\"This is an info message\")\n",
        "    logger.warning(\"This is a warning message\")\n",
        "    logger.error(\"This is an error message\")\n",
        "    logger.critical(\"This is a critical message\")\n",
        "\n",
        "# Run the test logging function\n",
        "test_logging()"
      ],
      "metadata": {
        "id": "yvfpzhpdgrbh",
        "colab": {
          "base_uri": "https://localhost:8080/"
        },
        "outputId": "1a45c069-8708-425a-ed6b-49c9b1979890"
      },
      "execution_count": 5,
      "outputs": [
        {
          "output_type": "stream",
          "name": "stderr",
          "text": [
            "DEBUG:root:This is a debug message\n",
            "INFO:root:This is an info message\n",
            "WARNING:root:This is a warning message\n",
            "ERROR:root:This is an error message\n",
            "CRITICAL:root:This is a critical message\n"
          ]
        }
      ]
    },
    {
      "cell_type": "markdown",
      "source": [
        "Q19.  Write a program that handles both IndexError and KeyError using a try-except block ?"
      ],
      "metadata": {
        "id": "JnaI1U6ugwAI"
      }
    },
    {
      "cell_type": "code",
      "source": [
        "#Ans.\n",
        "\n",
        "def handle_errors():\n",
        "    # Sample data\n",
        "    my_list = [1, 2, 3]\n",
        "    my_dict = {'a': 1, 'b': 2, 'c': 3}\n",
        "\n",
        "    try:\n",
        "        # Trying to access an invalid index in the list\n",
        "        print(my_list[5])  # IndexError\n",
        "\n",
        "        # Trying to access a key that doesn't exist in the dictionary\n",
        "        print(my_dict['d'])  # KeyError\n",
        "\n",
        "    except IndexError as e:\n",
        "        print(f\"IndexError occurred: {e}\")\n",
        "\n",
        "    except KeyError as e:\n",
        "        print(f\"KeyError occurred: {e}\")\n",
        "\n",
        "# Call the function\n",
        "handle_errors()"
      ],
      "metadata": {
        "id": "w168v71WkJ0t",
        "colab": {
          "base_uri": "https://localhost:8080/"
        },
        "outputId": "e9b02dc3-0e1b-4f31-979b-74febbf86a4a"
      },
      "execution_count": 4,
      "outputs": [
        {
          "output_type": "stream",
          "name": "stdout",
          "text": [
            "IndexError occurred: list index out of range\n"
          ]
        }
      ]
    },
    {
      "cell_type": "markdown",
      "source": [
        "Q20. How would you open a file and read its contents using a context manager in Python ?"
      ],
      "metadata": {
        "id": "gZC7dLLRhJ5I"
      }
    },
    {
      "cell_type": "code",
      "source": [
        "#Ans.\n",
        "\n",
        "with open('example.txt', 'r') as file:\n",
        "    contents = file.read()\n",
        "contents\n"
      ],
      "metadata": {
        "colab": {
          "base_uri": "https://localhost:8080/",
          "height": 36
        },
        "id": "cGsBPZSJm55p",
        "outputId": "5270c88d-30de-403c-b712-9acf0ced240e"
      },
      "execution_count": 3,
      "outputs": [
        {
          "output_type": "execute_result",
          "data": {
            "text/plain": [
              "'Hello, this is a string written to the file.\\nThis is a new line added to the file.\\nThis is a new line added to the file.\\nThis is a new line added to the file.'"
            ],
            "application/vnd.google.colaboratory.intrinsic+json": {
              "type": "string"
            }
          },
          "metadata": {},
          "execution_count": 3
        }
      ]
    },
    {
      "cell_type": "markdown",
      "source": [
        "Q21. Write a Python program that reads a file and prints the number of occurrences of a specific word ?"
      ],
      "metadata": {
        "id": "sOZ1sa-NnQpr"
      }
    },
    {
      "cell_type": "code",
      "source": [
        "#Ans.\n",
        "\n",
        "def count_word_occurrences(filepath, word):\n",
        "    \"\"\"Reads a file and counts the occurrences of a specific word.\n",
        "\n",
        "    Args:\n",
        "        filepath: The path to the file.\n",
        "        word: The word to search for.\n",
        "\n",
        "    Returns:\n",
        "        The number of times the word appears in the file, or -1 if the file\n",
        "        does not exist.\n",
        "    \"\"\"\n",
        "    try:\n",
        "        with open(filepath, 'r') as file:\n",
        "            content = file.read()\n",
        "            # Convert to lowercase for case-insensitive counting\n",
        "            content = content.lower()\n",
        "            word = word.lower()\n",
        "            occurrences = content.count(word)\n",
        "            return occurrences\n",
        "    except FileNotFoundError:\n",
        "        print(f\"Error: File '{filepath}' not found.\")\n",
        "        return -1\n",
        "\n",
        "# Example usage:\n",
        "filepath = 'example.txt'  # Replace with your file path\n",
        "word_to_count = \"file\"\n",
        "count = count_word_occurrences(filepath, word_to_count)\n",
        "\n",
        "if count != -1:\n",
        "    print(f\"The word '{word_to_count}' appears {count} times in the file.\")\n"
      ],
      "metadata": {
        "colab": {
          "base_uri": "https://localhost:8080/"
        },
        "id": "LdYJHotonWUo",
        "outputId": "1f1cba33-7825-4bf4-f858-e9069f0b098d"
      },
      "execution_count": 6,
      "outputs": [
        {
          "output_type": "stream",
          "name": "stdout",
          "text": [
            "The word 'file' appears 4 times in the file.\n"
          ]
        }
      ]
    },
    {
      "cell_type": "markdown",
      "source": [
        "Q22. How can you check if a file is empty before attempting to read its contents ?"
      ],
      "metadata": {
        "id": "8nixrOmtnes4"
      }
    },
    {
      "cell_type": "code",
      "source": [
        "#Ans.\n",
        "\n",
        "import os\n",
        "\n",
        "def read_non_empty_file(filepath):\n",
        "    \"\"\"Reads a file if it's not empty, otherwise prints a message.\n",
        "\n",
        "    Args:\n",
        "        filepath: The path to the file.\n",
        "    \"\"\"\n",
        "    if os.path.exists(filepath):\n",
        "        # Efficiently check if file is empty\n",
        "        if os.stat(filepath).st_size == 0:\n",
        "            print(f\"The file '{filepath}' is empty.\")\n",
        "        else:\n",
        "            with open(filepath, 'r') as file:\n",
        "                contents = file.read()\n",
        "                print(\"File content:\")\n",
        "                print(contents)\n",
        "    else:\n",
        "        print(f\"The file '{filepath}' does not exist.\")\n",
        "\n",
        "# Example usage\n",
        "file_path = 'example.txt'\n",
        "read_non_empty_file(file_path)\n"
      ],
      "metadata": {
        "colab": {
          "base_uri": "https://localhost:8080/"
        },
        "id": "wAin4Jkrnj6R",
        "outputId": "9c3f3e6f-9432-47b7-dd3d-c5fc84a08f67"
      },
      "execution_count": 7,
      "outputs": [
        {
          "output_type": "stream",
          "name": "stdout",
          "text": [
            "File content:\n",
            "Hello, this is a string written to the file.\n",
            "This is a new line added to the file.\n",
            "This is a new line added to the file.\n",
            "This is a new line added to the file.\n"
          ]
        }
      ]
    },
    {
      "cell_type": "markdown",
      "source": [
        "Q23. Write a Python program that writes to a log file when an error occurs during file handling ?"
      ],
      "metadata": {
        "id": "ivqHR_IMnq6p"
      }
    },
    {
      "cell_type": "code",
      "source": [
        "#Ans.\n",
        "\n",
        "import logging\n",
        "\n",
        "def file_handling_with_logging(filename):\n",
        "    try:\n",
        "        with open(filename, 'r') as file:\n",
        "            content = file.read()\n",
        "            # Perform operations on the file content here\n",
        "            print(content)\n",
        "    except FileNotFoundError:\n",
        "        # Log the error\n",
        "        logging.basicConfig(filename='file_handling_errors.log', level=logging.ERROR,\n",
        "                            format='%(asctime)s - %(levelname)s - %(message)s')\n",
        "        logging.error(f\"Error: File '{filename}' not found.\")\n",
        "    except Exception as e:\n",
        "        # Log other potential errors during file handling\n",
        "        logging.basicConfig(filename='file_handling_errors.log', level=logging.ERROR,\n",
        "                            format='%(asctime)s - %(levelname)s - %(message)s')\n",
        "        logging.error(f\"An unexpected error occurred while handling file '{filename}': {e}\")\n",
        "\n",
        "# Example usage\n",
        "file_handling_with_logging(\"my_file.txt\")  # Replace \"my_file.txt\" with the desired file name\n"
      ],
      "metadata": {
        "colab": {
          "base_uri": "https://localhost:8080/"
        },
        "id": "U6diVFsdnvD4",
        "outputId": "9007bf3e-d6cd-4b43-afc3-6c7b9e5c843f"
      },
      "execution_count": 8,
      "outputs": [
        {
          "output_type": "stream",
          "name": "stdout",
          "text": [
            "Hello, world!\n"
          ]
        }
      ]
    }
  ]
}