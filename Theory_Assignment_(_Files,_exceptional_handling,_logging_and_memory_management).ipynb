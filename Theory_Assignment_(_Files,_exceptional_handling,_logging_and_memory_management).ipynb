{
  "nbformat": 4,
  "nbformat_minor": 0,
  "metadata": {
    "colab": {
      "provenance": []
    },
    "kernelspec": {
      "name": "python3",
      "display_name": "Python 3"
    },
    "language_info": {
      "name": "python"
    }
  },
  "cells": [
    {
      "cell_type": "markdown",
      "source": [
        "Q1. What is the difference between interpreted and compiled languages ?"
      ],
      "metadata": {
        "id": "98OZn8aLGJ98"
      }
    },
    {
      "cell_type": "markdown",
      "source": [
        "Ans. Compiled Languages: The source code is translated into machine code by a compiler before execution. The result is an independent executable file. Examples: C, C++.\n",
        "\n",
        "1. Compiled languages generally run faster\n",
        "\n",
        "Interpreted Languages: The source code is executed line by line by an interpreter at runtime, without creating a separate executable file. Examples: Python, JavaScript.\n",
        "\n",
        "1. interpreted languages are more flexible and easier to debug.\n",
        "\n",
        "\n",
        "\n"
      ],
      "metadata": {
        "id": "YXJwG6nWGV1T"
      }
    },
    {
      "cell_type": "markdown",
      "source": [
        "Q2. What is exception handling in Python ?"
      ],
      "metadata": {
        "id": "-Uju92_QGoHW"
      }
    },
    {
      "cell_type": "markdown",
      "source": [
        "Ans.  Exception handling in Python is a mechanism that allows you to handle runtime errors (exceptions) gracefully, preventing the program from crashing. It uses the try, except, else, and finally blocks:\n",
        "\n",
        "1. try: Code that might raise an exception.\n",
        "\n",
        "2. except: Code that handles the exception if it occurs.\n",
        "\n",
        "3. else: Code that runs if no exception occurs.\n",
        "\n",
        "4. finally: Code that runs no matter what, used for cleanup.\n",
        "\n",
        "Example:\n",
        "\n",
        "\n",
        "try:\n",
        "    \n",
        "    x = 10 / 0\n",
        "\n",
        "except ZeroDivisionError:\n",
        "    \n",
        "    print(\"Cannot divide by zero!\")\n",
        "\n",
        "finally:\n",
        "    \n",
        "    print(\"Execution completed.\")"
      ],
      "metadata": {
        "id": "JLe6mhkIGrJE"
      }
    },
    {
      "cell_type": "markdown",
      "source": [
        "Q3.  What is the purpose of the finally block in exception handling ?"
      ],
      "metadata": {
        "id": "4LIOEmZCG-QX"
      }
    },
    {
      "cell_type": "markdown",
      "source": [
        "Ans.  The finally block in exception handling is used to define code that will always execute, regardless of whether an exception occurred or not. It's typically used for cleanup tasks, like closing files or releasing resources.\n",
        "\n",
        "\n",
        "Example:\n",
        "\n",
        "try:\n",
        "    \n",
        "    # Code that may raise an exception\n",
        "    file = open(\"file.txt\", \"r\")\n",
        "\n",
        "except FileNotFoundError:\n",
        "    \n",
        "    print(\"File not found!\")\n",
        "\n",
        "finally:\n",
        "    \n",
        "    file.close()  # This will always execute"
      ],
      "metadata": {
        "id": "4KGE8khrHGpc"
      }
    },
    {
      "cell_type": "markdown",
      "source": [
        "Q4. What is logging in Python ?"
      ],
      "metadata": {
        "id": "NgaHG0zcHRgq"
      }
    },
    {
      "cell_type": "markdown",
      "source": [
        "Ans. Logging in Python is a way to track events, errors, and messages during the execution of a program. It helps developers debug and monitor code by recording logs at different levels of severity (e.g., DEBUG, INFO, WARNING, ERROR, CRITICAL).\n",
        "\n",
        "The logging module provides a flexible framework for adding logging to your code. It allows logs to be saved to various destinations (console, file, etc.).\n",
        "\n",
        "\n",
        "Example:\n",
        "\n",
        "import logging\n",
        "\n",
        "logging.basicConfig(level=logging.DEBUG)\n",
        "logging.debug(\"This is a debug message\")\n",
        "logging.info(\"This is an info message\")\n",
        "logging.error(\"This is an error message\")"
      ],
      "metadata": {
        "id": "q4iMJN_RHX-a"
      }
    },
    {
      "cell_type": "markdown",
      "source": [
        "Q5.  What is the significance of the __del__ method in Python ?"
      ],
      "metadata": {
        "id": "V9kTd4XqHeN8"
      }
    },
    {
      "cell_type": "markdown",
      "source": [
        "Ans.  The del method in Python is used to delete objects, variables, or elements from collections (like lists, dictionaries, etc.). It removes the reference to the object, freeing up memory if no other references exist.\n",
        "\n",
        "1. Deleting variables: Removes a variable from the namespace.\n",
        "\n",
        "2. Deleting elements: Removes elements from lists, dictionaries, etc.\n",
        "\n",
        "\n",
        "Example:\n",
        "\n",
        "x = 10\n",
        "del x  # Deletes the variable x\n",
        "\n",
        "\n",
        "my_list = [1, 2, 3]\n",
        "del my_list[1]  # Deletes the second element (index 1) from the list\n"
      ],
      "metadata": {
        "id": "xaXV7ZKHHj9E"
      }
    },
    {
      "cell_type": "markdown",
      "source": [
        "Q6. What is the difference between import and from ... import in Python ?"
      ],
      "metadata": {
        "id": "yc90LCTMH1k8"
      }
    },
    {
      "cell_type": "markdown",
      "source": [
        "Ans.  1. import: Imports the entire module, and you access its functions or classes using the module name.\n",
        "\n",
        "Example:\n",
        "\n",
        "import math\n",
        "print(math.sqrt(16))\n",
        "\n",
        "\n",
        "1. from ... import: Imports specific functions, classes, or variables from a module directly, so you can use them without the module name prefix.\n",
        "\n",
        "Example:\n",
        "\n",
        "from math import sqrt\n",
        "print(sqrt(16))\n",
        "\n",
        "\n",
        "Summary:\n",
        "\n",
        "1. import: Loads the whole module.\n",
        "\n",
        "2. from ... import: Loads specific parts of the module."
      ],
      "metadata": {
        "id": "7OMkwCtdH8mz"
      }
    },
    {
      "cell_type": "markdown",
      "source": [
        "Q7. How can you handle multiple exceptions in Python ?"
      ],
      "metadata": {
        "id": "S5KnUBqVIQTj"
      }
    },
    {
      "cell_type": "markdown",
      "source": [
        "Ans.  You can handle multiple exceptions in Python by using multiple except blocks or by specifying multiple exceptions in a single except block.\n",
        "\n",
        "1. Using multiple except blocks:\n",
        "\n",
        "\n",
        "try:\n",
        "    # Code that may raise exceptions\n",
        "    x = 10 / 0\n",
        "except ZeroDivisionError:\n",
        "    print(\"Cannot divide by zero!\")\n",
        "except ValueError:\n",
        "    print(\"Value error occurred!\")\n",
        "\n",
        "2. Handling multiple exceptions in a single except block:\n",
        "\n",
        "try:\n",
        "    # Code that may raise exceptions\n",
        "    x = 10 / 0\n",
        "except (ZeroDivisionError, ValueError):\n",
        "    print(\"An error occurred!\")"
      ],
      "metadata": {
        "id": "K4HQC-W0IXIO"
      }
    },
    {
      "cell_type": "markdown",
      "source": [
        "Q8. What is the purpose of the with statement when handling files in Python ?"
      ],
      "metadata": {
        "id": "TYxIbNh5IgrU"
      }
    },
    {
      "cell_type": "markdown",
      "source": [
        "Ans.  The with statement in Python is used to handle files and other resources in a way that ensures proper cleanup, even if an error occurs. It automatically takes care of opening and closing the file, which prevents issues like forgetting to close the file.\n",
        "\n",
        "\n",
        "Example:\n",
        "\n",
        "with open('file.txt', 'r') as file:\n",
        "    content = file.read()\n",
        "# No need to call file.close(), it is done automatically.\n",
        "\n",
        "\n",
        "Purpose:\n",
        "\n",
        "1. Ensures the file is closed automatically when the block is exited (even if an exception occurs).\n",
        "\n",
        "2. Simplifies code and prevents resource leaks."
      ],
      "metadata": {
        "id": "O5Icj_jUIlch"
      }
    },
    {
      "cell_type": "markdown",
      "source": [
        "Q9. What is the difference between multithreading and multiprocessing ?"
      ],
      "metadata": {
        "id": "BaFaTXv9Iy-p"
      }
    },
    {
      "cell_type": "markdown",
      "source": [
        "Ans.  Multithreading and multiprocessing both allow for concurrent execution, but they differ in how they handle tasks:\n",
        "\n",
        "1. Multithreading:\n",
        "\n",
        "(A) Uses multiple threads within a single process.\n",
        "\n",
        "(B) Threads share the same memory space, which can lead to faster communication but also potential issues with data consistency (due to shared memory).\n",
        "\n",
        "(C) Best for I/O-bound tasks (e.g., reading files, network requests).\n",
        "\n",
        "(D) Example: Running multiple web requests at the same time.\n",
        "\n",
        "\n",
        "2. Multiprocessing:\n",
        "\n",
        "(A) Uses multiple processes, each with its own memory space.\n",
        "\n",
        "(B) Each process runs independently, avoiding the issues of shared memory.\n",
        "\n",
        "(C) Best for CPU-bound tasks (e.g., heavy computations).\n",
        "\n",
        "(D) Example: Running complex calculations in parallel.\n",
        "\n",
        "\n",
        "Summary:\n",
        "\n",
        "1. Multithreading: Multiple threads, shared memory, ideal for I/O tasks.\n",
        "\n",
        "2. Multiprocessing: Multiple processes, separate memory, ideal for CPU tasks."
      ],
      "metadata": {
        "id": "es0VmN0wI70q"
      }
    },
    {
      "cell_type": "markdown",
      "source": [
        "Q10. What are the advantages of using logging in a program ?"
      ],
      "metadata": {
        "id": "jzOFMoDqJhGb"
      }
    },
    {
      "cell_type": "markdown",
      "source": [
        "Ans. The advantages of using logging in a program are:\n",
        "\n",
        "1. Error Tracking: Helps track errors and exceptions in the code, making it easier to debug.\n",
        "\n",
        "2. Monitoring: Provides insights into the program's execution flow and performance.\n",
        "\n",
        "3. Persistence: Logs can be saved to files for later analysis or troubleshooting.\n",
        "\n",
        "4. Customization: Allows filtering of log messages by severity (e.g., DEBUG, INFO, ERROR).\n",
        "\n",
        "5. Non-intrusive: Logs can be turned on/off or set to different levels without changing the program’s behavior."
      ],
      "metadata": {
        "id": "XBM5UgTaJkXh"
      }
    },
    {
      "cell_type": "markdown",
      "source": [
        "Q11.  What is memory management in Python ?"
      ],
      "metadata": {
        "id": "o9kgqhWGJ3vo"
      }
    },
    {
      "cell_type": "markdown",
      "source": [
        "Ans.  Memory management in Python involves the process of allocating and deallocating memory for objects during the program's execution. Key components include:\n",
        "\n",
        "1. Automatic Garbage Collection: Python automatically manages memory by freeing up memory occupied by objects no longer in use (using reference counting and cyclic garbage collection).\n",
        "\n",
        "2. Reference Counting: Python keeps track of the number of references to an object. When the reference count reaches zero, the object is deleted.\n",
        "\n",
        "3. Memory Pooling: Python uses memory pools to manage memory more efficiently, reducing the overhead of frequent memory allocation/deallocation.\n",
        "\n",
        "4. Dynamic Typing: Memory is allocated dynamically as objects are created, and the size of the memory is adjusted as needed."
      ],
      "metadata": {
        "id": "4j6Q45rnJ7ZA"
      }
    },
    {
      "cell_type": "markdown",
      "source": [
        "Q12. What are the basic steps involved in exception handling in Python ?"
      ],
      "metadata": {
        "id": "CQhOSeA8KIIT"
      }
    },
    {
      "cell_type": "markdown",
      "source": [
        "Ans.  The basic steps involved in exception handling in Python are:\n",
        "\n",
        "1. try block: Write the code that might raise an exception inside the try block.\n",
        "\n",
        "2. except block: Catch and handle the exception in the except block.\n",
        "\n",
        "3. else block (optional): Code that runs if no exception occurs in the try block.\n",
        "\n",
        "4. finally block (optional): Code that runs regardless of whether an exception occurs, typically for cleanup.\n",
        "\n",
        "Example:\n",
        "\n",
        "try:\n",
        "    \n",
        "    # Code that may raise an exception\n",
        "    x = 10 / 0\n",
        "\n",
        "except ZeroDivisionError:\n",
        "    \n",
        "    print(\"Cannot divide by zero!\")\n",
        "\n",
        "else:\n",
        "    \n",
        "    print(\"No exception occurred.\")\n",
        "\n",
        "finally:\n",
        "    \n",
        "    print(\"This always runs.\")"
      ],
      "metadata": {
        "id": "qUpy5pd8KQLQ"
      }
    },
    {
      "cell_type": "markdown",
      "source": [
        "Q13. Why is memory management important in Python ?"
      ],
      "metadata": {
        "id": "9wV1GFSIKjL5"
      }
    },
    {
      "cell_type": "markdown",
      "source": [
        "Ans.   Memory management is important in Python because:\n",
        "\n",
        "1. Efficient Resource Usage: Ensures optimal use of memory, preventing memory leaks and unnecessary consumption.\n",
        "\n",
        "2. Performance: Proper memory management improves the program's performance by minimizing overhead and maximizing speed.\n",
        "\n",
        "3. Garbage Collection: Python’s automatic memory management helps reclaim unused memory, reducing the risk of crashes or slowdowns.\n",
        "\n",
        "4. Prevents Memory Leaks: By handling memory allocation and deallocation, Python reduces the chances of memory leaks, ensuring long-running applications remain stable."
      ],
      "metadata": {
        "id": "GZb1J61mKqPQ"
      }
    },
    {
      "cell_type": "markdown",
      "source": [
        "Q14. What is the role of try and except in exception handling ?"
      ],
      "metadata": {
        "id": "LvHp9PvHK1Xw"
      }
    },
    {
      "cell_type": "markdown",
      "source": [
        "Ans.\n",
        "\n",
        "1. try: Defines a block of code that might raise an exception. The code inside the try block is executed first.\n",
        "\n",
        "2. except: Catches and handles the exception if one occurs in the try block. It allows the program to continue running smoothly instead of crashing.\n",
        "\n",
        "\n",
        "Example:\n",
        "\n",
        "try:\n",
        "    \n",
        "    x = 10 / 0\n",
        "\n",
        "except ZeroDivisionError:\n",
        "\n",
        "    print(\"Cannot divide by zero!\")"
      ],
      "metadata": {
        "id": "7qJ_fdeGK55o"
      }
    },
    {
      "cell_type": "markdown",
      "source": [
        "Q15.  How does Python's garbage collection system work ?"
      ],
      "metadata": {
        "id": "D9fPoHaBLG3A"
      }
    },
    {
      "cell_type": "markdown",
      "source": [
        "Ans.  Python's garbage collection system works by automatically managing memory through two main techniques:\n",
        "\n",
        "1.  Reference Counting: Every object in Python has a reference count, which tracks how many references point to it. When the reference count drops to zero (i.e., no references to the object remain), the object is deallocated.\n",
        "\n",
        "2. Cyclic Garbage Collection: Python also detects and cleans up reference cycles (when objects reference each other, forming a cycle) using a cyclic garbage collector. This runs periodically to find and remove objects that are no longer reachable but still have non-zero reference counts."
      ],
      "metadata": {
        "id": "8aiSGRT_Li5o"
      }
    },
    {
      "cell_type": "markdown",
      "source": [
        "Q16. What is the purpose of the else block in exception handling ?"
      ],
      "metadata": {
        "id": "D2h4s4XsLqyA"
      }
    },
    {
      "cell_type": "markdown",
      "source": [
        "Ans.  The else block in exception handling is used to define code that runs only if no exceptions occur in the try block. It allows you to execute code when the program runs successfully without errors.\n",
        "\n",
        "\n",
        "Example:\n",
        "\n",
        "try:\n",
        "    \n",
        "    x = 10 / 2\n",
        "\n",
        "except ZeroDivisionError:\n",
        "    \n",
        "    print(\"Cannot divide by zero!\")\n",
        "\n",
        "else:\n",
        "    \n",
        "    print(\"Division successful!\")"
      ],
      "metadata": {
        "id": "OuXq1XLRLxk2"
      }
    },
    {
      "cell_type": "markdown",
      "source": [
        "Q17. What are the common logging levels in Python ?"
      ],
      "metadata": {
        "id": "JhFJw6LfL6p4"
      }
    },
    {
      "cell_type": "markdown",
      "source": [
        "Ans.  The common logging levels in Python are:\n",
        "\n",
        "1. DEBUG: Detailed information, typically useful for diagnosing problems (lowest level).\n",
        "\n",
        "2. INFO: General information about program execution, such as status updates.\n",
        "\n",
        "3. WARNING: Indicates a potential problem or something that isn't critical but should be noticed.\n",
        "\n",
        "4. ERROR: Represents a serious issue where the program can't perform a specific task, but it can continue running.\n",
        "\n",
        "5. CRITICAL: A very serious error that may cause the program to terminate."
      ],
      "metadata": {
        "id": "qx2z_HOBMB4w"
      }
    },
    {
      "cell_type": "markdown",
      "source": [
        "Q18. What is the difference between os.fork() and multiprocessing in Python ?"
      ],
      "metadata": {
        "id": "a5pq60nBMRJf"
      }
    },
    {
      "cell_type": "markdown",
      "source": [
        "Ans.  The difference between os.fork() and multiprocessing in Python is:\n",
        "\n",
        "1. os.fork():\n",
        "\n",
        "\n",
        "(A) Creates a child process by duplicating the parent process.\n",
        "\n",
        "(B) Available only on Unix-like systems (Linux, macOS).\n",
        "\n",
        "(C) Low-level and can lead to issues like managing shared resources and memory.\n",
        "\n",
        "(D) Suitable for simple process creation but less flexible.\n",
        "\n",
        "\n",
        "2. multiprocessing:\n",
        "\n",
        "(A) Provides a higher-level API for creating and managing multiple processes.\n",
        "\n",
        "(B) Cross-platform (works on both Unix-like systems and Windows).\n",
        "\n",
        "(C) Handles process creation, synchronization, and inter-process communication more easily and safely.\n",
        "\n",
        "\n",
        "\n"
      ],
      "metadata": {
        "id": "EQ0kn84oMT_g"
      }
    },
    {
      "cell_type": "markdown",
      "source": [
        "Q19. What is the importance of closing a file in Python ?"
      ],
      "metadata": {
        "id": "Du9_WzzIM4TH"
      }
    },
    {
      "cell_type": "markdown",
      "source": [
        "Ans.  Closing a file in Python is important because:\n",
        "\n",
        "1. Resource Management: It frees up system resources (e.g., memory and file handles) once you're done working with the file.\n",
        "\n",
        "2. Data Integrity: Ensures that all data is properly written to the file and changes are saved.\n",
        "\n",
        "3. Avoiding Leaks: Prevents memory leaks and other issues by releasing file handles that would otherwise remain open."
      ],
      "metadata": {
        "id": "gDZRYHw8M-Jm"
      }
    },
    {
      "cell_type": "markdown",
      "source": [
        "Q20. What is the difference between file.read() and file.readline() in Python ?"
      ],
      "metadata": {
        "id": "Pw0cYTZ2NIiG"
      }
    },
    {
      "cell_type": "markdown",
      "source": [
        "Ans.  The difference between file.read() and file.readline() in Python is:\n",
        "\n",
        "(A) file.read():\n",
        "\n",
        "1. Reads the entire content of the file as a single string.\n",
        "\n",
        "2. Useful for loading the entire file into memory.\n",
        "\n",
        "Example:\n",
        "\n",
        "with open('file.txt', 'r') as file:\n",
        "    \n",
        "    content = file.read()\n",
        "\n",
        "(B) file.readline():\n",
        "\n",
        "1. Reads one line at a time from the file.\n",
        "\n",
        "2. Useful for processing large files line by line without loading the whole file into memory.\n",
        "\n",
        "Example:\n",
        "\n",
        "with open('file.txt', 'r') as file:\n",
        "    \n",
        "    line = file.readline()\n"
      ],
      "metadata": {
        "id": "ZftXhI6eNK_-"
      }
    },
    {
      "cell_type": "markdown",
      "source": [
        "Q21.  What is the logging module in Python used for ?"
      ],
      "metadata": {
        "id": "JlB6s6hAN3wV"
      }
    },
    {
      "cell_type": "markdown",
      "source": [
        "Ans.  The logging module in Python is used for tracking and recording events, errors, and debugging information during the execution of a program. It allows developers to log messages at different severity levels (e.g., DEBUG, INFO, WARNING, ERROR, CRITICAL) and output them to various destinations like the console, files, or remote servers.\n",
        "\n",
        "It helps in monitoring, debugging, and maintaining the program by providing insights into its behavior."
      ],
      "metadata": {
        "id": "QES6j1gzN-h8"
      }
    },
    {
      "cell_type": "markdown",
      "source": [
        "Q22.  What is the os module in Python used for in file handling ?"
      ],
      "metadata": {
        "id": "0eMmOvcxOCW-"
      }
    },
    {
      "cell_type": "markdown",
      "source": [
        "Ans. The os module in Python is used for interacting with the operating system, and in file handling, it provides functions to:\n",
        "\n",
        "1. Manipulate files and directories: Create, delete, rename files and directories.\n",
        "\n",
        "2. Get file information: Retrieve file size, modification time, and other metadata.\n",
        "\n",
        "3. Change working directories: Navigate the filesystem (e.g., os.chdir()).\n",
        "\n",
        "4. Check file existence: Verify if a file or directory exists (e.g., os.path.exists()).\n",
        "\n",
        "\n",
        "Example:\n",
        "\n",
        "import os\n",
        "os.remove('file.txt')  # Delete a file"
      ],
      "metadata": {
        "id": "sKghTfwHOI2u"
      }
    },
    {
      "cell_type": "markdown",
      "source": [
        "Q23. What are the challenges associated with memory management in Python ?"
      ],
      "metadata": {
        "id": "McHqCHO7OTvl"
      }
    },
    {
      "cell_type": "markdown",
      "source": [
        "Ans.  Challenges associated with memory management in Python include:\n",
        "\n",
        "1. Reference Counting Overhead: Python uses reference counting, which can introduce overhead in managing object lifetimes, especially with large numbers of objects.\n",
        "\n",
        "2. Cyclic References: Objects referencing each other in cycles can lead to memory leaks if not properly handled by the garbage collector.\n",
        "\n",
        "3. Memory Fragmentation: Frequent allocation and deallocation of memory can cause fragmentation, leading to inefficient memory usage.\n",
        "\n",
        "4. Garbage Collection Delays: The garbage collector runs periodically, which might not immediately reclaim memory, leading to temporary memory bloat.\n",
        "\n",
        "5. Large Memory Consumption: Some Python objects, like lists and dictionaries, can consume large amounts of memory, especially when handling large datasets."
      ],
      "metadata": {
        "id": "gaF1kdz9OaYl"
      }
    },
    {
      "cell_type": "markdown",
      "source": [
        "Q24. How do you raise an exception manually in Python ?"
      ],
      "metadata": {
        "id": "foO-sXoqOhxm"
      }
    },
    {
      "cell_type": "markdown",
      "source": [
        "Ans.  You can raise an exception manually in Python using the raise statement followed by the exception class or an instance of the exception.\n",
        "\n",
        "\n",
        "Example:\n",
        "\n",
        "raise ValueError(\"This is a custom error message\")"
      ],
      "metadata": {
        "id": "ti9gCsVHOn6O"
      }
    },
    {
      "cell_type": "markdown",
      "source": [
        "Q25. Why is it important to use multithreading in certain applications ?"
      ],
      "metadata": {
        "id": "yrRX_-E2Or3e"
      }
    },
    {
      "cell_type": "markdown",
      "source": [
        "Ans. Using multithreading in certain applications is important because:\n",
        "\n",
        "1. Improved Performance: It allows tasks to run concurrently, improving efficiency, especially in I/O-bound applications (e.g., reading files, handling network requests).\n",
        "\n",
        "2. Better Resource Utilization: Utilizes idle CPU time when waiting for I/O operations, making better use of system resources.\n",
        "\n",
        "3. Responsiveness: Enhances the responsiveness of applications, especially in GUI programs, by allowing background tasks to run without freezing the main thread."
      ],
      "metadata": {
        "id": "plv7vhDSOyTF"
      }
    }
  ]
}